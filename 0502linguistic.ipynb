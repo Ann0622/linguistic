{
  "nbformat": 4,
  "nbformat_minor": 0,
  "metadata": {
    "colab": {
      "provenance": [],
      "authorship_tag": "ABX9TyN0EwsZgPAQJV4ZH6knFZ6/",
      "include_colab_link": true
    },
    "kernelspec": {
      "name": "python3",
      "display_name": "Python 3"
    },
    "language_info": {
      "name": "python"
    }
  },
  "cells": [
    {
      "cell_type": "markdown",
      "metadata": {
        "id": "view-in-github",
        "colab_type": "text"
      },
      "source": [
        "<a href=\"https://colab.research.google.com/github/Ann0622/linguistic/blob/main/0502linguistic.ipynb\" target=\"_parent\"><img src=\"https://colab.research.google.com/assets/colab-badge.svg\" alt=\"Open In Colab\"/></a>"
      ]
    },
    {
      "cell_type": "code",
      "execution_count": null,
      "metadata": {
        "colab": {
          "base_uri": "https://localhost:8080/"
        },
        "id": "_GIeZdBlBgik",
        "outputId": "556638eb-3cba-4769-b574-acfefb9b814f"
      },
      "outputs": [
        {
          "output_type": "stream",
          "name": "stdout",
          "text": [
            "Today is a good day!\n",
            "TODAY IS A GOOD DAY!\n",
            "today is a good day!\n"
          ]
        }
      ],
      "source": [
        "print(\"Today is a good day!\")\n",
        "sentence_upper = \"Today is a good day!\".upper()\n",
        "print(sentence_upper)\n",
        "sentence_lower = \"Today is a good day!\".lower()\n",
        "print(sentence_lower)"
      ]
    }
  ]
}